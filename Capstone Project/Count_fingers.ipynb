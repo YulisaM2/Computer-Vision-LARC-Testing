{
 "cells": [
  {
   "cell_type": "code",
   "execution_count": 6,
   "metadata": {},
   "outputs": [],
   "source": [
    "import cv2\n",
    "import numpy as np\n",
    "\n",
    "from sklearn.metrics import pairwise"
   ]
  },
  {
   "cell_type": "code",
   "execution_count": 7,
   "metadata": {},
   "outputs": [],
   "source": [
    "background = None\n",
    "accumulated_weight = 0.5\n",
    "\n",
    "# Defining ROI coordinates where hand will be evaluated\n",
    "roi_top = 20\n",
    "roi_bottom = 300\n",
    "roi_right = 300\n",
    "roi_left = 600\n",
    "\n",
    "# Get the accumulated average of the ROI (if it changes, then we know hand has entered the ROI)\n",
    "def calc_accum_avg(frame,accumulated_weight):\n",
    "    global background\n",
    "    \n",
    "    if background is None:\n",
    "        background = frame.copy().astype('float')\n",
    "        return None\n",
    "    \n",
    "    cv2.accumulateWeighted(frame,background,accumulated_weight)"
   ]
  },
  {
   "cell_type": "code",
   "execution_count": 8,
   "metadata": {},
   "outputs": [],
   "source": [
    "# Using thresholding to grab the hand segment form ROI\n",
    "def segment(frame,threshold_min=25):\n",
    "#     Getting difference between current frame and the previous background\n",
    "    diff = cv2.absdiff(background.astype('uint8'), frame)\n",
    "    ret,thresholded = cv2.threshold(diff,threshold_min,255, cv2.THRESH_BINARY)\n",
    "    \n",
    "#     Getting contours of the ROI \n",
    "    image, contours, hierarchy = cv2.findContours(thresholded.copy(),cv2.RETR_EXTERNAL, cv2.CHAIN_APPROX_SIMPLE)\n",
    "    \n",
    "    if len(contours) == 0:\n",
    "        return None\n",
    "    else:\n",
    "#         Assuming the largest external contour in ROI is the hand\n",
    "        hand_segment = max(contours,key=cv2.contourArea)\n",
    "    \n",
    "    return (thresholded,hand_segment)"
   ]
  },
  {
   "cell_type": "code",
   "execution_count": 9,
   "metadata": {},
   "outputs": [],
   "source": [
    "# Using a Convex Hull, which draws a ploygon by connecting points around the most external points in a frame\n",
    "def count_fingers(thresholded, hand_segment):\n",
    "    conv_hull = cv2.convexHull(hand_segment)\n",
    "    \n",
    "#    Calculating edges of figure\n",
    "    top = tuple(conv_hull[conv_hull[:,:,1].argmin()][0])\n",
    "    bottom = tuple(conv_hull[conv_hull[:,:,1].argmax()][0])\n",
    "    left = tuple(conv_hull[conv_hull[:,:,0].argmin()][0])\n",
    "    right = tuple(conv_hull[conv_hull[:,:,0].argmax()][0])\n",
    "    \n",
    "    center_x = (left[0] + right[0]) // 2\n",
    "    center_y = (top[1] + bottom[1]) // 2\n",
    "    \n",
    "    distance = pairwise.euclidean_distances([(center_x,center_y)],Y=[left,right,top,bottom])[0]\n",
    "    \n",
    "#     Creating circle with 90% radius of euclidean distance (this distance being of the point furthest to the center)\n",
    "    max_distance = distance.max()\n",
    "    radius = int(0.8*max_distance)\n",
    "    circumference = 2*np.pi*radius\n",
    "    \n",
    "#     Creating circular roi for the palm\n",
    "    circular_roi = np.zeros(thresholded.shape[:2],dtype='uint8')\n",
    "    cv2.circle(circular_roi,(center_x,center_y),radius,255,10)\n",
    "    circular_roi = cv2.bitwise_and(thresholded,thresholded,mask=circular_roi)\n",
    "    \n",
    "#     Finding contours of said area to then use it as point of reference to know if finger is extended or not\n",
    "    image,contours,hierarchy = cv2.findContours(circular_roi.copy(),cv2.RETR_EXTERNAL,cv2.CHAIN_APPROX_NONE)\n",
    "    count = 0\n",
    "    for contour in contours:\n",
    "        (x,y,w,h) = cv2.boundingRect(contour)\n",
    "        \n",
    "#         Checking that points are not part of the wrist, assuming that the wrist is below \n",
    "        out_of_wrist = ((center_y + (center_y*0.25)) > (y + h))\n",
    "    \n",
    "#     Checking that points are not background noise (by checking that point is within the limited range from circular_roi)\n",
    "        limit_points = ((circumference*0.25) > contour.shape[0])\n",
    "      \n",
    "        if out_of_wrist and limit_points:\n",
    "            count += 1\n",
    "        \n",
    "    return count"
   ]
  },
  {
   "cell_type": "code",
   "execution_count": 10,
   "metadata": {},
   "outputs": [
    {
     "data": {
      "text/plain": [
       "-1"
      ]
     },
     "execution_count": 10,
     "metadata": {},
     "output_type": "execute_result"
    }
   ],
   "source": [
    "cam = cv2.VideoCapture(0)\n",
    "num_frames = 0\n",
    "\n",
    "while True:\n",
    "    ret, frame = cam.read()\n",
    "    frame = cv2.flip(frame, 1)\n",
    "    frame_copy = frame.copy()\n",
    "    \n",
    "#     Setting ROI\n",
    "    roi = frame[roi_top:roi_bottom,roi_right:roi_left]\n",
    "    gray = cv2.cvtColor(roi, cv2.COLOR_BGR2GRAY)\n",
    "    \n",
    "#     Applying blur for better contour detection\n",
    "    gray = cv2.GaussianBlur(gray,(7,7),0)\n",
    "\n",
    "    if num_frames < 60:\n",
    "        #     Buffering accumulated weight from background\n",
    "        calc_accum_avg(gray, accumulated_weight)\n",
    "        if num_frames <= 59:\n",
    "            cv2.putText(frame_copy,'LOADING BACKGROUND...',(200,400),cv2.FONT_HERSHEY_SIMPLEX,1,(0,0,255),2)  \n",
    "            cv2.imshow('Finger Counter', frame_copy)\n",
    "    else:\n",
    "        hand = segment(gray)\n",
    "        if hand is not None:\n",
    "            thresholded, hand_segment = hand\n",
    "            \n",
    "#             Drawing contours around the hand, counting and showing amount of fingers extended\n",
    "            cv2.drawContours(frame_copy,[hand_segment + (roi_right, roi_top)],-1,(0,0,255),1)\n",
    "            fingers = count_fingers(thresholded,hand_segment)\n",
    "            cv2.putText(frame_copy, str(fingers),(200,400),cv2.FONT_HERSHEY_SIMPLEX,1,(0,0,255),2)\n",
    "            \n",
    "#             For debugging\n",
    "            cv2.imshow('Thresholded', thresholded)\n",
    "    \n",
    "    cv2.rectangle(frame_copy,(roi_left,roi_top),(roi_right,roi_bottom),(0,0,255),5)\n",
    "    num_frames +=1\n",
    "    \n",
    "    cv2.imshow('Finger Counter', frame_copy)\n",
    "    \n",
    "    k = cv2.waitKey(1) & 0xFF\n",
    "    if k == 27:\n",
    "        break\n",
    "\n",
    "cam.release()\n",
    "cv2.destroyAllWindows()\n",
    "cv2.waitKey(1)\n",
    "    "
   ]
  },
  {
   "cell_type": "code",
   "execution_count": null,
   "metadata": {},
   "outputs": [],
   "source": []
  }
 ],
 "metadata": {
  "kernelspec": {
   "display_name": "Python 3",
   "language": "python",
   "name": "python3"
  },
  "language_info": {
   "codemirror_mode": {
    "name": "ipython",
    "version": 3
   },
   "file_extension": ".py",
   "mimetype": "text/x-python",
   "name": "python",
   "nbconvert_exporter": "python",
   "pygments_lexer": "ipython3",
   "version": "3.6.6"
  }
 },
 "nbformat": 4,
 "nbformat_minor": 4
}
