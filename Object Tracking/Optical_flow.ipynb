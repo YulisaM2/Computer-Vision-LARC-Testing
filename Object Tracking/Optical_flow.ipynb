{
 "cells": [
  {
   "cell_type": "code",
   "execution_count": 1,
   "metadata": {},
   "outputs": [],
   "source": [
    "import numpy as np\n",
    "import cv2"
   ]
  },
  {
   "cell_type": "code",
   "execution_count": 2,
   "metadata": {},
   "outputs": [],
   "source": [
    "# Method 1: Using Lucas-Kanade method for sparse density of optical flow\n",
    "corner_track_params = dict(maxCorners = 10,qualityLevel=0.3, minDistance=7,blockSize=7)"
   ]
  },
  {
   "cell_type": "code",
   "execution_count": 3,
   "metadata": {},
   "outputs": [],
   "source": [
    "# When using Lucas-Kanade window size is important (small = sensitive to noise, big = might not be sensitive to small movements)\n",
    "# More iterations (in this case 10), will result in more exhaustive search\n",
    "# Smaller epsiolon = finish earlier\n",
    "# So we are exchanging speed with accuracy with these to params\n",
    "lk_params = dict(winSize=(200,200), maxLevel = 2, criteria = (cv2.TERM_CRITERIA_EPS | cv2.TERM_CRITERIA_COUNT, 10, 0.03))"
   ]
  },
  {
   "cell_type": "code",
   "execution_count": 4,
   "metadata": {},
   "outputs": [],
   "source": [
    "# Saving initial frame\n",
    "cap = cv2.VideoCapture(0)\n",
    "ret, prev_frame = cap.read()\n",
    "\n",
    "prev_gray = cv2.cvtColor(prev_frame,cv2.COLOR_BGR2GRAY)"
   ]
  },
  {
   "cell_type": "code",
   "execution_count": 5,
   "metadata": {},
   "outputs": [
    {
     "data": {
      "text/plain": [
       "-1"
      ]
     },
     "execution_count": 5,
     "metadata": {},
     "output_type": "execute_result"
    }
   ],
   "source": [
    "# Points to tracks (maxCorners we want to track are 10)\n",
    "prevPts = cv2.goodFeaturesToTrack(prev_gray,mask=None,**corner_track_params)\n",
    "\n",
    "# Mask to draw lines into the video (for displaying purposes)\n",
    "mask = np.zeros_like(prev_frame)\n",
    "\n",
    "while True:\n",
    "    ret, frame = cap.read()\n",
    "    frame_gray = cv2.cvtColor(frame,cv2.COLOR_BGR2GRAY)\n",
    "    nextPts,status,err = cv2.calcOpticalFlowPyrLK(prev_gray,frame_gray,prevPts,None,**lk_params)\n",
    "#     Status == 1 means the flow for corresponding feature has been found\n",
    "    good_new = nextPts[status == 1]\n",
    "    good_prev = prevPts[status == 1]\n",
    "    \n",
    "#     Iterating through the good new points and the previosuly good ones (those where optical flow was detected)\n",
    "    for i, (new,prev) in enumerate(zip(good_new,good_prev)):\n",
    "        x_new,y_new = new.ravel()\n",
    "        x_prev,y_prev = prev.ravel()\n",
    "        \n",
    "#         Draw tracking line of the points as they change from frame to frame\n",
    "        mask = cv2.line(mask,(x_new,y_new),(x_prev,y_prev),(0,255,0),3)\n",
    "        frame = cv2.circle(frame,(x_new,y_new),8,(0,0,255),-1)\n",
    "    \n",
    "#     Adding the mask that has the lines and the frame that has the circles to new image\n",
    "    img = cv2.add(frame,mask)\n",
    "    cv2.imshow('tracking', img)\n",
    "    \n",
    "    k = cv2.waitKey(30) & 0xFF \n",
    "    if k == 27:\n",
    "        break\n",
    "    \n",
    "#     Before moving to new frame, updating points values\n",
    "    prev_gray = frame_gray.copy()\n",
    "#     This is the shape that the Lucas-Kanade returns\n",
    "    prevPts = good_new.reshape(-1,1,2)\n",
    "    \n",
    "    \n",
    "cap.release()\n",
    "cv2.destroyAllWindows()\n",
    "cv2.waitKey(1)"
   ]
  },
  {
   "cell_type": "code",
   "execution_count": null,
   "metadata": {},
   "outputs": [],
   "source": [
    "# Method 2: Using Gunner Farneback's algorithm for dense optical flow"
   ]
  },
  {
   "cell_type": "code",
   "execution_count": 1,
   "metadata": {},
   "outputs": [],
   "source": [
    "import numpy as np\n",
    "import cv2"
   ]
  },
  {
   "cell_type": "code",
   "execution_count": 2,
   "metadata": {},
   "outputs": [
    {
     "data": {
      "text/plain": [
       "-1"
      ]
     },
     "execution_count": 2,
     "metadata": {},
     "output_type": "execute_result"
    }
   ],
   "source": [
    "cap = cv2.VideoCapture(0)\n",
    "ret, frame1 = cap.read()\n",
    "prvsImg = cv2.cvtColor(frame1, cv2.COLOR_BGR2GRAY)\n",
    "\n",
    "# Make a hsv mask with max saturation\n",
    "hsv_mask = np.zeros_like(frame1)\n",
    "hsv_mask[:,:,1] = 255\n",
    "\n",
    "# If movement is to the left, it will color it blue\n",
    "# If it to the right, it will color it red\n",
    "# Up is purple\n",
    "# Down is green\n",
    "# No movement is black\n",
    "while True:\n",
    "    ret, frame2 = cap.read()\n",
    "    nextImg = cv2.cvtColor(frame2, cv2.COLOR_BGR2GRAY)\n",
    "    flow = cv2.calcOpticalFlowFarneback(prvsImg,nextImg,None,0.5,3,15,3,5,1.2,0)\n",
    "#     Convert flow into polar coordinates (so that we can map the resulting vector into the HSV Map)\n",
    "#     For every pixel in flow, grab the horizontal coordinates, and then the vertical ones\n",
    "#     Then convert them to magnitude and angle\n",
    "#     This way we can color the frame using the hue of the map (which depends on magnitude and angle)\n",
    "    mag, ang = cv2.cartToPolar(flow[:,:,0],flow[:,:,1], angleInDegrees= True)\n",
    "#     Change the hue to angle (/2 so we can scale it using 360 to 180)\n",
    "    hsv_mask[:,:,0] = ang/2\n",
    "    hsv_mask[:,:,2] = cv2.normalize(mag,None,0,255,cv2.NORM_MINMAX)\n",
    "    bgr = cv2.cvtColor(hsv_mask,cv2.COLOR_HSV2BGR)\n",
    "    \n",
    "    cv2.imshow('frame', bgr)\n",
    "    k = cv2.waitKey(10) & 0xFF \n",
    "    if k == 27:\n",
    "        break\n",
    "        \n",
    "#     Update for next frame\n",
    "    prvsImg = nextImg\n",
    "\n",
    "cap.release()\n",
    "cv2.destroyAllWindows()\n",
    "cv2.waitKey(1)"
   ]
  },
  {
   "cell_type": "code",
   "execution_count": null,
   "metadata": {},
   "outputs": [],
   "source": []
  }
 ],
 "metadata": {
  "kernelspec": {
   "display_name": "Python 3",
   "language": "python",
   "name": "python3"
  },
  "language_info": {
   "codemirror_mode": {
    "name": "ipython",
    "version": 3
   },
   "file_extension": ".py",
   "mimetype": "text/x-python",
   "name": "python",
   "nbconvert_exporter": "python",
   "pygments_lexer": "ipython3",
   "version": "3.6.6"
  }
 },
 "nbformat": 4,
 "nbformat_minor": 4
}
