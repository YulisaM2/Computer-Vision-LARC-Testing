{
 "cells": [
  {
   "cell_type": "code",
   "execution_count": 1,
   "metadata": {},
   "outputs": [],
   "source": [
    "import cv2"
   ]
  },
  {
   "cell_type": "code",
   "execution_count": 2,
   "metadata": {},
   "outputs": [],
   "source": [
    "def ask_for_tracker():\n",
    "    print(\"Which Tracker API would you like to use?\")\n",
    "    print(\"0 - for BOOSTING\")\n",
    "    print(\"1 - for MIL\")\n",
    "    print(\"2 - for KCF\")\n",
    "    print(\"3 - for TLD\")\n",
    "    print(\"4 - for Median Flow\")\n",
    "    choice = input(\"Please select your tracker: \")\n",
    "    \n",
    "    if choice == '0':\n",
    "        tracker = cv2.TrackerBoosting_create()\n",
    "    elif choice == '1':\n",
    "        tracker = cv2.TrackerMIL_create()\n",
    "    elif choice == '2':\n",
    "        tracker = cv2.TrackerKCF_create()\n",
    "    elif choice == '3':\n",
    "        tracker = cv2.TrackerTLD_create()\n",
    "    elif choice == '4':\n",
    "        tracker = cv2.TrackerMedianFlow_create()\n",
    "    else:\n",
    "        print(\"Error! Command not found :(\")\n",
    "        return\n",
    "    \n",
    "    return tracker"
   ]
  },
  {
   "cell_type": "code",
   "execution_count": 3,
   "metadata": {},
   "outputs": [],
   "source": [
    "# tracker = ask_for_tracker()"
   ]
  },
  {
   "cell_type": "code",
   "execution_count": 4,
   "metadata": {},
   "outputs": [],
   "source": [
    "# tracker"
   ]
  },
  {
   "cell_type": "code",
   "execution_count": 5,
   "metadata": {},
   "outputs": [],
   "source": [
    "# Select tracker name (convert to string and eliminate whitespace and < char)"
   ]
  },
  {
   "cell_type": "code",
   "execution_count": 6,
   "metadata": {},
   "outputs": [],
   "source": [
    "# tracker_name = str(tracker).split()[0][1:]"
   ]
  },
  {
   "cell_type": "code",
   "execution_count": 7,
   "metadata": {},
   "outputs": [],
   "source": [
    "# tracker_name"
   ]
  },
  {
   "cell_type": "code",
   "execution_count": 13,
   "metadata": {},
   "outputs": [
    {
     "name": "stdout",
     "output_type": "stream",
     "text": [
      "Which Tracker API would you like to use?\n",
      "0 - for BOOSTING\n",
      "1 - for MIL\n",
      "2 - for KCF\n",
      "3 - for TLD\n",
      "4 - for Median Flow\n"
     ]
    },
    {
     "name": "stdin",
     "output_type": "stream",
     "text": [
      "Please select your tracker:  3\n"
     ]
    },
    {
     "data": {
      "text/plain": [
       "-1"
      ]
     },
     "execution_count": 13,
     "metadata": {},
     "output_type": "execute_result"
    }
   ],
   "source": [
    "tracker = ask_for_tracker()\n",
    "tracker_name = str(tracker).split()[0][1:]\n",
    "\n",
    "cap = cv2.VideoCapture(0)\n",
    "ret, frame = cap.read()\n",
    "\n",
    "# Draw manually on the first frame of our ROI\n",
    "roi = cv2.selectROI(frame,False)\n",
    "# Initialize tracker with this frame and bounding box to our ROI\n",
    "ret = tracker.init(frame,roi)\n",
    "\n",
    "while True:\n",
    "    ret, frame = cap.read()\n",
    "    \n",
    "#     Update tracker\n",
    "    success,roi = tracker.update(frame)\n",
    "    \n",
    "#     ROI is a tuple of 4 floats and we need them as ints\n",
    "    (x,y,w,h) = tuple(map(int,roi))\n",
    "    \n",
    "#     Draw rectangle as tracker moves \n",
    "    if success:\n",
    "        p1 = (x,y)\n",
    "        p2 = (x+w,y+h)\n",
    "        cv2.rectangle(frame,p1,p2,(0,255,0),3)\n",
    "    else:\n",
    "        cv2.putText(frame,'Error! Failed to detect tracking :(',(100,200), cv2.FONT_HERSHEY_SIMPLEX,1,(0,0,255),1)\n",
    "        \n",
    "    cv2.putText(frame,tracker_name,(20,400),cv2.FONT_HERSHEY_SIMPLEX,1,(0,255,0),3)\n",
    "    cv2.imshow(tracker_name,frame)\n",
    "    \n",
    "    k = cv2.waitKey(1) & 0xFF\n",
    "    if k == 27:\n",
    "        break\n",
    "cap.release()\n",
    "cv2.destroyAllWindows()\n",
    "cv2.waitKey(1)"
   ]
  },
  {
   "cell_type": "code",
   "execution_count": null,
   "metadata": {},
   "outputs": [],
   "source": []
  }
 ],
 "metadata": {
  "kernelspec": {
   "display_name": "Python 3",
   "language": "python",
   "name": "python3"
  },
  "language_info": {
   "codemirror_mode": {
    "name": "ipython",
    "version": 3
   },
   "file_extension": ".py",
   "mimetype": "text/x-python",
   "name": "python",
   "nbconvert_exporter": "python",
   "pygments_lexer": "ipython3",
   "version": "3.6.6"
  }
 },
 "nbformat": 4,
 "nbformat_minor": 4
}
